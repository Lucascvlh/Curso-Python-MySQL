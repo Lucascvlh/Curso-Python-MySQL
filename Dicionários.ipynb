{
  "nbformat": 4,
  "nbformat_minor": 0,
  "metadata": {
    "colab": {
      "name": "Dicionários.ipynb",
      "provenance": [],
      "authorship_tag": "ABX9TyMZjoyKMEoYY/li7kbNqzd5",
      "include_colab_link": true
    },
    "kernelspec": {
      "name": "python3",
      "display_name": "Python 3"
    },
    "language_info": {
      "name": "python"
    }
  },
  "cells": [
    {
      "cell_type": "markdown",
      "metadata": {
        "id": "view-in-github",
        "colab_type": "text"
      },
      "source": [
        "<a href=\"https://colab.research.google.com/github/Lucascvlh/Curso-Python-MySQL/blob/main/Dicion%C3%A1rios.ipynb\" target=\"_parent\"><img src=\"https://colab.research.google.com/assets/colab-badge.svg\" alt=\"Open In Colab\"/></a>"
      ]
    },
    {
      "cell_type": "code",
      "execution_count": 2,
      "metadata": {
        "colab": {
          "base_uri": "https://localhost:8080/"
        },
        "id": "k4rLI-Ctfr7r",
        "outputId": "9a2e8f0b-3b00-4891-b6b8-6f36eb1d3e66"
      },
      "outputs": [
        {
          "output_type": "stream",
          "name": "stdout",
          "text": [
            "{'A': 'Ameixa', 'B': 'Bola', 'C': 'Cachorro'}\n"
          ]
        }
      ],
      "source": [
        "meu_dicionario = {\"A\":\"Ameixa\",\"B\":\"Bola\",\"C\":\"Cachorro\"}\n",
        "print(meu_dicionario)"
      ]
    },
    {
      "cell_type": "code",
      "source": [
        "meu_dicionario = {\"A\":\"Ameixa\",\"B\":\"Bola\",\"C\":\"Cachorro\"}\n",
        "\n",
        "for chave in meu_dicionario:\n",
        "  print(chave + \":\" + meu_dicionario[chave])"
      ],
      "metadata": {
        "colab": {
          "base_uri": "https://localhost:8080/"
        },
        "id": "x9l_nb5WgEvp",
        "outputId": "4b1b741a-27f4-4c99-90ca-a13a2d40e555"
      },
      "execution_count": 3,
      "outputs": [
        {
          "output_type": "stream",
          "name": "stdout",
          "text": [
            "A:Ameixa\n",
            "B:Bola\n",
            "C:Cachorro\n"
          ]
        }
      ]
    },
    {
      "cell_type": "code",
      "source": [
        "meu_dicionario = {\"A\":\"Ameixa\",\"B\":\"Bola\",\"C\":\"Cachorro\"}\n",
        "\n",
        "for i in meu_dicionario.items():\n",
        "  print(i)\n",
        "\n",
        "for i in meu_dicionario.values():\n",
        "  print(i)\n",
        "\n",
        "for i in meu_dicionario.keys():\n",
        "  print(i)"
      ],
      "metadata": {
        "colab": {
          "base_uri": "https://localhost:8080/"
        },
        "id": "FqaaHvo3gW8e",
        "outputId": "66f03de3-e87e-4646-fdcf-fbc1d1a1943f"
      },
      "execution_count": 5,
      "outputs": [
        {
          "output_type": "stream",
          "name": "stdout",
          "text": [
            "('A', 'Ameixa')\n",
            "('B', 'Bola')\n",
            "('C', 'Cachorro')\n",
            "Ameixa\n",
            "Bola\n",
            "Cachorro\n",
            "A\n",
            "B\n",
            "C\n"
          ]
        }
      ]
    }
  ]
}