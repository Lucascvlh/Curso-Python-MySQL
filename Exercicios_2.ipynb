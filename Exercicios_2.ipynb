{
  "nbformat": 4,
  "nbformat_minor": 0,
  "metadata": {
    "colab": {
      "name": "Exercicios 2.ipynb",
      "provenance": [],
      "authorship_tag": "ABX9TyMYX4TA4pPxubCpbJNoGz+N",
      "include_colab_link": true
    },
    "kernelspec": {
      "name": "python3",
      "display_name": "Python 3"
    },
    "language_info": {
      "name": "python"
    }
  },
  "cells": [
    {
      "cell_type": "markdown",
      "metadata": {
        "id": "view-in-github",
        "colab_type": "text"
      },
      "source": [
        "<a href=\"https://colab.research.google.com/github/Lucascvlh/Curso-Python-MySQL/blob/main/Exercicios_2.ipynb\" target=\"_parent\"><img src=\"https://colab.research.google.com/assets/colab-badge.svg\" alt=\"Open In Colab\"/></a>"
      ]
    },
    {
      "cell_type": "code",
      "execution_count": 1,
      "metadata": {
        "colab": {
          "base_uri": "https://localhost:8080/"
        },
        "id": "k9OwX5dVpKeZ",
        "outputId": "61c38e18-8b89-4b9a-8d40-09ece577e4a5"
      },
      "outputs": [
        {
          "output_type": "stream",
          "name": "stdout",
          "text": [
            "Digite a sequencia 1: ATCG\n",
            "Digite a sequencia 2: ATCG\n",
            "Sequências iguais\n"
          ]
        }
      ],
      "source": [
        "seq1 = input(\"Digite a sequencia 1: \")\n",
        "seq2 = input(\"Digite a sequencia 2: \")\n",
        "\n",
        "if seq1 == seq2:\n",
        "  print(\"Sequências iguais\")\n",
        "else:\n",
        "  print(\"Sequências diferentes\")"
      ]
    },
    {
      "cell_type": "code",
      "source": [
        "nome = input(\"Digite o nome do arquivo que você deseja abrir: \")\n",
        "\n",
        "arquivo = open(nome)\n",
        "\n",
        "linhas = arquivo.readline()\n",
        "\n",
        "for linha in linhas:\n",
        "  print(linha.strip())"
      ],
      "metadata": {
        "id": "dGAi0vPSqX_1"
      },
      "execution_count": null,
      "outputs": []
    },
    {
      "cell_type": "code",
      "source": [
        "seq = input(\"Digite uma sequência: \")\n",
        "\n",
        "arquivo = open(\"seq2.fasta\",\"w\")\n",
        "\n",
        "arquivo.write(\">seq\\n\")\n",
        "arquivo.write(seq)\n",
        "\n",
        "arquivo.close()"
      ],
      "metadata": {
        "id": "FQOVyCoYrEiD"
      },
      "execution_count": null,
      "outputs": []
    },
    {
      "cell_type": "code",
      "source": [
        "menu = 0\n",
        "\n",
        "def abrirArquivo():\n",
        "  nome = input(\"Digite o nome do arquivo que deseja: \")\n",
        "\n",
        "  arquivo.open(nome)\n",
        "\n",
        "  return arquivo\n",
        "\n",
        "def lerArquivo(arquivo):\n",
        "  linhas = arquivo.readline()\n",
        "\n",
        "  for linha in linhas:\n",
        "    print(linha.strip())\n",
        "\n",
        "while menu != 3:\n",
        "  print(\"(1) Abrir arquivo\\n(2) Ler arquivi aberto\\n(3)Sair\\n\")\n",
        "  \n",
        "  menu = int(input(\"Digite a opção desejada: \"))\n",
        "\n",
        "  if menu == 1:\n",
        "    arquivo = abrirArquivo()\n",
        "  elif menu == 2:\n",
        "    lerArquivo(arquivo)\n",
        "\n",
        "  "
      ],
      "metadata": {
        "colab": {
          "base_uri": "https://localhost:8080/"
        },
        "id": "4p1biNlEriie",
        "outputId": "10bf470d-c3a0-493d-b3fc-355b32e0552b"
      },
      "execution_count": 8,
      "outputs": [
        {
          "name": "stdout",
          "output_type": "stream",
          "text": [
            "(1) Abrir arquivo\n",
            "(2) Ler arquivi aberto\n",
            "(3)Sair\n",
            "\n",
            "Digite a opção desejada: 3\n"
          ]
        }
      ]
    },
    {
      "cell_type": "code",
      "source": [
        "arquivo = open(\"seq.fasta\")\n",
        "\n",
        "linhas = arquivo.readlines()\n",
        "multifasta = {}\n",
        "\n",
        "for linha in linhas:\n",
        "  if linha[0] == \">\":\n",
        "    seqAtual = linha[1:].strip()\n",
        "    multifasta[seqAtual] = \"\"\n",
        "  else:\n",
        "    multifasta[seqAtual] = multifasta[seqAtual] + linha.strip()\n",
        "\n",
        "print(multifasta)"
      ],
      "metadata": {
        "id": "tQRdlIE_t5I7"
      },
      "execution_count": null,
      "outputs": []
    }
  ]
}