{
  "nbformat": 4,
  "nbformat_minor": 0,
  "metadata": {
    "colab": {
      "name": "Funções/Random/Exceções.ipynb",
      "provenance": [],
      "collapsed_sections": [],
      "authorship_tag": "ABX9TyNir5hQhzPsT4Ca4RvFn8PU",
      "include_colab_link": true
    },
    "kernelspec": {
      "name": "python3",
      "display_name": "Python 3"
    },
    "language_info": {
      "name": "python"
    }
  },
  "cells": [
    {
      "cell_type": "markdown",
      "metadata": {
        "id": "view-in-github",
        "colab_type": "text"
      },
      "source": [
        "<a href=\"https://colab.research.google.com/github/Lucascvlh/Curso-Python-MySQL/blob/main/Fun%C3%A7%C3%B5es_Random_Exce%C3%A7%C3%B5es.ipynb\" target=\"_parent\"><img src=\"https://colab.research.google.com/assets/colab-badge.svg\" alt=\"Open In Colab\"/></a>"
      ]
    },
    {
      "cell_type": "code",
      "execution_count": 2,
      "metadata": {
        "colab": {
          "base_uri": "https://localhost:8080/"
        },
        "id": "_bM2sVHtm_oG",
        "outputId": "d02c55d2-c9fd-4b7b-8cc0-3bad73730512"
      },
      "outputs": [
        {
          "output_type": "stream",
          "name": "stdout",
          "text": [
            "5\n"
          ]
        }
      ],
      "source": [
        "def soma(x,y):\n",
        "  return x+y\n",
        "\n",
        "def multiplicacao(x,y):\n",
        "  return x*y\n",
        "\n",
        "s = soma(2,3)\n",
        "m = multiplicacao(2,3)\n",
        "\n",
        "print(soma(s,m))\n"
      ]
    },
    {
      "cell_type": "code",
      "source": [
        "import random\n",
        "\n",
        "numero = random.randint(0,10)\n",
        "print(numero)\n",
        "\n",
        "lista = [6,45,9]\n",
        "numero = random.choice(lista)\n",
        "print(numero)"
      ],
      "metadata": {
        "colab": {
          "base_uri": "https://localhost:8080/"
        },
        "id": "QaZ2tcmrn__B",
        "outputId": "029a3d68-e4e1-464e-afe5-fb3d3f243c0d"
      },
      "execution_count": 8,
      "outputs": [
        {
          "output_type": "stream",
          "name": "stdout",
          "text": [
            "7\n",
            "6\n"
          ]
        }
      ]
    },
    {
      "cell_type": "code",
      "source": [
        "a = 2\n",
        "b = 0\n",
        "\n",
        "try:\n",
        "  print(a/b)\n",
        "\n",
        "except:\n",
        "  print(\"Não é permitida a divisão\")"
      ],
      "metadata": {
        "id": "8VcV5l9xoZoZ"
      },
      "execution_count": null,
      "outputs": []
    }
  ]
}