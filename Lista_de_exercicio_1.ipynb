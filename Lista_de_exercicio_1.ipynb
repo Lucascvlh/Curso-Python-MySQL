{
  "nbformat": 4,
  "nbformat_minor": 0,
  "metadata": {
    "colab": {
      "name": "Lista de exercicio 1.ipynb",
      "provenance": [],
      "authorship_tag": "ABX9TyOoVOYq1AZJzeUOiozSnJnA",
      "include_colab_link": true
    },
    "kernelspec": {
      "name": "python3",
      "display_name": "Python 3"
    },
    "language_info": {
      "name": "python"
    }
  },
  "cells": [
    {
      "cell_type": "markdown",
      "metadata": {
        "id": "view-in-github",
        "colab_type": "text"
      },
      "source": [
        "<a href=\"https://colab.research.google.com/github/Lucascvlh/Curso-Python-MySQL/blob/main/Lista_de_exercicio_1.ipynb\" target=\"_parent\"><img src=\"https://colab.research.google.com/assets/colab-badge.svg\" alt=\"Open In Colab\"/></a>"
      ]
    },
    {
      "cell_type": "code",
      "execution_count": null,
      "metadata": {
        "colab": {
          "base_uri": "https://localhost:8080/"
        },
        "id": "W8FHB3CVORTr",
        "outputId": "e8d824a6-015e-4927-edac-883e07387da4"
      },
      "outputs": [
        {
          "output_type": "stream",
          "name": "stdout",
          "text": [
            "Digite sua idade: 20\n",
            "Maior de idade\n"
          ]
        }
      ],
      "source": [
        "idade = int(input(\"Digite sua idade: \"))\n",
        "\n",
        "if idade >=18:\n",
        "    print(\"Maior de idade\")\n",
        "else:\n",
        "    print(\"Menor de idade\")"
      ]
    },
    {
      "cell_type": "code",
      "source": [
        "nota1 = float(input(\"Digite a primeira nota: \"))\n",
        "nota2 = float(input(\"Digite a segunda nota: \"))\n",
        "\n",
        "media = (nota1 + nota2)/2\n",
        "\n",
        "if media >= 6:\n",
        "  print(\"aprovado\")\n",
        "else:\n",
        "  print(\"Reprovado\")"
      ],
      "metadata": {
        "colab": {
          "base_uri": "https://localhost:8080/"
        },
        "id": "OJUNhfTnPWGt",
        "outputId": "04ffe335-098e-4a1c-a247-cbe08169f79b"
      },
      "execution_count": null,
      "outputs": [
        {
          "output_type": "stream",
          "name": "stdout",
          "text": [
            "Digite a primeira nota: 10\n",
            "Digite a segunda nota: 2\n",
            "aprovado\n"
          ]
        }
      ]
    },
    {
      "cell_type": "code",
      "source": [
        "from math import sqrt\n",
        "a = int(input(\"Digite o valor de A: \"))\n",
        "b = int(input(\"Digite o valor de B: \"))\n",
        "c = int(input(\"Digite o valor de C: \"))\n",
        " \n",
        "delta = b**2 - 4*a*c\n",
        "raiz_delta = sqrt(delta)\n",
        " \n",
        "if raiz_delta < 0:\n",
        "    print(\"Delta negativo\")\n",
        "else:\n",
        "    x1 = (-b + raiz_delta)/2*a\n",
        "    x2 = (-b + raiz_delta)/2*a\n",
        " \n",
        "    print(\"As raízes são\", x1, \"e\", x2)"
      ],
      "metadata": {
        "colab": {
          "base_uri": "https://localhost:8080/"
        },
        "id": "viGX3oWFPhQX",
        "outputId": "b7b4a933-a8f9-4a85-d9ab-4a7ce9c0deeb"
      },
      "execution_count": null,
      "outputs": [
        {
          "output_type": "stream",
          "name": "stdout",
          "text": [
            "Digite o valor de A: 2\n",
            "Digite o valor de B: 6\n",
            "Digite o valor de C: 3\n",
            "As raízes são -2.5358983848622456 e -2.5358983848622456\n"
          ]
        }
      ]
    },
    {
      "cell_type": "code",
      "source": [
        "lista = [3,2,1]\n",
        "print(sorted(lista))"
      ],
      "metadata": {
        "colab": {
          "base_uri": "https://localhost:8080/"
        },
        "id": "StYhbejeQKLk",
        "outputId": "e54632bb-b88c-48bd-8e76-fbaaaa18376c"
      },
      "execution_count": null,
      "outputs": [
        {
          "output_type": "stream",
          "name": "stdout",
          "text": [
            "[1, 2, 3]\n"
          ]
        }
      ]
    },
    {
      "cell_type": "code",
      "source": [
        "n1 = int(input(\"Digite o primeiro número: \"))\n",
        "sinal = input(\"Digite o sinal: \")\n",
        "n2 = int(input(\"Digite o segundo número: \"))\n",
        " \n",
        "if sinal == \"+\":\n",
        "    op = n1 + n2\n",
        " \n",
        "elif sinal == \"-\":\n",
        "    op = n1 - n2\n",
        " \n",
        "elif sinal == \"/\":\n",
        "    op = n1 + n2\n",
        " \n",
        "elif sinal == \"*\":\n",
        "    op = n1 * n2\n",
        " \n",
        "else:\n",
        "    print(\"Sinal inválido.\")\n",
        " \n",
        "print(op)"
      ],
      "metadata": {
        "colab": {
          "base_uri": "https://localhost:8080/"
        },
        "id": "N-NyhqK4QNlw",
        "outputId": "287dacbb-448b-446b-cf56-a43b2ad1118a"
      },
      "execution_count": null,
      "outputs": [
        {
          "output_type": "stream",
          "name": "stdout",
          "text": [
            "Digite o primeiro número: 20\n",
            "Digite o sinal: -\n",
            "Digite o segundo número: 0\n",
            "20\n"
          ]
        }
      ]
    }
  ]
}