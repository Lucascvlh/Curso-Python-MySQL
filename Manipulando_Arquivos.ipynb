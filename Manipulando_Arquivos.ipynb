{
  "nbformat": 4,
  "nbformat_minor": 0,
  "metadata": {
    "colab": {
      "name": "Manipulando Arquivos.ipynb",
      "provenance": [],
      "authorship_tag": "ABX9TyOTA0vF1BnKGMfy7JENDM0C",
      "include_colab_link": true
    },
    "kernelspec": {
      "name": "python3",
      "display_name": "Python 3"
    },
    "language_info": {
      "name": "python"
    }
  },
  "cells": [
    {
      "cell_type": "markdown",
      "metadata": {
        "id": "view-in-github",
        "colab_type": "text"
      },
      "source": [
        "<a href=\"https://colab.research.google.com/github/Lucascvlh/Curso-Python-MySQL/blob/main/Manipulando_Arquivos.ipynb\" target=\"_parent\"><img src=\"https://colab.research.google.com/assets/colab-badge.svg\" alt=\"Open In Colab\"/></a>"
      ]
    },
    {
      "cell_type": "code",
      "source": [
        "arquivo = open(\"arquivo.txt\")\n",
        "\n",
        "linhas = arquivo.readlines()\n",
        "\n",
        "for linha in linhas:  \n",
        "  print(linhas)"
      ],
      "metadata": {
        "id": "ECvFdo6OmS0B"
      },
      "execution_count": null,
      "outputs": []
    },
    {
      "cell_type": "code",
      "source": [
        "arquivo = open(\"arquivo.txt\",\"w\")\n",
        "\n",
        "arquivo.write(\"Esse é meu arquivo\")\n",
        "\n",
        "arquivo.close()"
      ],
      "metadata": {
        "id": "sgjT9h_dlWNs"
      },
      "execution_count": 8,
      "outputs": []
    },
    {
      "cell_type": "code",
      "source": [
        "arquivo = open(\"arquivo.txt\",\"a\")\n",
        "\n",
        "arquivo.write(\"Esse é meu arquivo\\n\")\n",
        "\n",
        "arquivo.close()"
      ],
      "metadata": {
        "id": "aoaLdPhimaeo"
      },
      "execution_count": 11,
      "outputs": []
    }
  ]
}