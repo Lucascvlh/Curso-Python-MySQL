{
  "nbformat": 4,
  "nbformat_minor": 0,
  "metadata": {
    "colab": {
      "name": "Objetos.ipynb",
      "provenance": [],
      "authorship_tag": "ABX9TyPSZgokRju0FVwbgjMTmg/O",
      "include_colab_link": true
    },
    "kernelspec": {
      "name": "python3",
      "display_name": "Python 3"
    },
    "language_info": {
      "name": "python"
    }
  },
  "cells": [
    {
      "cell_type": "markdown",
      "metadata": {
        "id": "view-in-github",
        "colab_type": "text"
      },
      "source": [
        "<a href=\"https://colab.research.google.com/github/Lucascvlh/Curso-Python-MySQL/blob/main/Objetos.ipynb\" target=\"_parent\"><img src=\"https://colab.research.google.com/assets/colab-badge.svg\" alt=\"Open In Colab\"/></a>"
      ]
    },
    {
      "cell_type": "code",
      "execution_count": 15,
      "metadata": {
        "colab": {
          "base_uri": "https://localhost:8080/"
        },
        "id": "ibW100xbS8I6",
        "outputId": "459582ba-f79f-45b6-c331-af6f0c8ba23c"
      },
      "outputs": [
        {
          "output_type": "stream",
          "name": "stdout",
          "text": [
            "['Abacaxi', 'Melancia', 'Abacate']\n",
            "Abacate\n",
            "3\n",
            "Abacaxi\n",
            "Melancia\n",
            "Abacate\n",
            "['Abacaxi', 'Melancia', 'Abacate', 'limão']\n",
            "['Abacaxi', 'Melancia']\n"
          ]
        }
      ],
      "source": [
        "minha_lista = [\"Abacaxi\",\"Melancia\",\"Abacate\"]\n",
        "print(minha_lista)\n",
        "print(minha_lista[2])\n",
        "\n",
        "tamanho = len(minha_lista)\n",
        "print(tamanho)\n",
        "\n",
        "for item in minha_lista:\n",
        "  print(item)\n",
        "\n",
        "minha_lista.append(\"limão\")\n",
        "print(minha_lista)\n",
        "\n",
        "del minha_lista[2:]\n",
        "print(minha_lista)"
      ]
    },
    {
      "cell_type": "code",
      "source": [
        "lista = [23,35,98,384,20,1,3,8,7]\n",
        "lista.sort()\n",
        "print(lista)\n",
        "lista.reverse()\n",
        "print(lista)"
      ],
      "metadata": {
        "colab": {
          "base_uri": "https://localhost:8080/"
        },
        "id": "UWboaq1vdyXF",
        "outputId": "2d0d0da4-4045-49a1-bcf2-26ee4cb7d682"
      },
      "execution_count": 18,
      "outputs": [
        {
          "output_type": "stream",
          "name": "stdout",
          "text": [
            "[1, 3, 7, 8, 20, 23, 35, 98, 384]\n",
            "[384, 98, 35, 23, 20, 8, 7, 3, 1]\n"
          ]
        }
      ]
    }
  ]
}