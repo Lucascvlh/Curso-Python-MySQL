{
  "nbformat": 4,
  "nbformat_minor": 0,
  "metadata": {
    "colab": {
      "name": "funções avançadas.ipynb",
      "provenance": [],
      "authorship_tag": "ABX9TyO4uj8v1oXnd1TfkCwm6fEC",
      "include_colab_link": true
    },
    "kernelspec": {
      "name": "python3",
      "display_name": "Python 3"
    },
    "language_info": {
      "name": "python"
    }
  },
  "cells": [
    {
      "cell_type": "markdown",
      "metadata": {
        "id": "view-in-github",
        "colab_type": "text"
      },
      "source": [
        "<a href=\"https://colab.research.google.com/github/Lucascvlh/Curso-Python-MySQL/blob/main/fun%C3%A7%C3%B5es_avan%C3%A7adas.ipynb\" target=\"_parent\"><img src=\"https://colab.research.google.com/assets/colab-badge.svg\" alt=\"Open In Colab\"/></a>"
      ]
    },
    {
      "cell_type": "code",
      "execution_count": 4,
      "metadata": {
        "colab": {
          "base_uri": "https://localhost:8080/"
        },
        "id": "bQTQ752G2yX6",
        "outputId": "9821e44d-8774-4085-ed31-c1971202bc1d"
      },
      "outputs": [
        {
          "output_type": "stream",
          "name": "stdout",
          "text": [
            "[1, 2, 3, 4, 5]\n",
            "[1, 4, 9, 16, 25]\n",
            "[1, 3, 5]\n"
          ]
        }
      ],
      "source": [
        "#list comprehension\n",
        "x = [1,2,3,4,5]\n",
        "y = [i**2 for i in x]\n",
        "z = [i for i in x if i%2==1]\n",
        "\n",
        "print(x)\n",
        "print(y)\n",
        "print(z)"
      ]
    },
    {
      "cell_type": "code",
      "source": [
        "#Enumerate\n",
        "lista = [\"abacate\",\"bola\",\"cachorro\"]\n",
        "\n",
        "for i, nome in enumerate(lista):\n",
        "  print(i, nome)\n"
      ],
      "metadata": {
        "colab": {
          "base_uri": "https://localhost:8080/"
        },
        "id": "Bw3NK9K53hTG",
        "outputId": "935b6929-10bb-48b3-f50d-67e5be2aa98f"
      },
      "execution_count": 6,
      "outputs": [
        {
          "output_type": "stream",
          "name": "stdout",
          "text": [
            "0 abacate\n",
            "1 bola\n",
            "2 cachorro\n",
            "0 abacate\n",
            "1 bola\n",
            "2 cachorro\n"
          ]
        }
      ]
    },
    {
      "cell_type": "code",
      "source": [
        "# filter\n",
        "\n",
        "def pares(i):\n",
        "  if i%2 == 0:\n",
        "    return i\n",
        "\n",
        "lista = [1,2,3,4,5,6,7,8,9,10]\n",
        "\n",
        "lista_pares = filter(pares, lista)\n",
        "print(list(lista_pares))\n"
      ],
      "metadata": {
        "colab": {
          "base_uri": "https://localhost:8080/"
        },
        "id": "bdGcW-ZB3__L",
        "outputId": "8caabd13-99e2-4b28-f41b-03ab3955b558"
      },
      "execution_count": 10,
      "outputs": [
        {
          "output_type": "stream",
          "name": "stdout",
          "text": [
            "[2, 4, 6, 8, 10]\n"
          ]
        }
      ]
    },
    {
      "cell_type": "code",
      "source": [
        "#Reduce\n",
        "from functools import reduce\n",
        "\n",
        "def soma(x,y):\n",
        "  return x + y\n",
        "\n",
        "lista = [1,3,5,9,10,50]\n",
        "\n",
        "soma = reduce(soma, lista)\n",
        "\n",
        "print(soma)"
      ],
      "metadata": {
        "colab": {
          "base_uri": "https://localhost:8080/"
        },
        "id": "zM7FM7OT4etJ",
        "outputId": "6b165cd2-a5c5-4c72-af3b-b976346cfd77"
      },
      "execution_count": 12,
      "outputs": [
        {
          "output_type": "stream",
          "name": "stdout",
          "text": [
            "78\n"
          ]
        }
      ]
    },
    {
      "cell_type": "code",
      "source": [
        "#Zip\n",
        "\n",
        "lista1 = [1,2,3,4,5]\n",
        "lista2 = [\"abacate\",\"bola\",\"cachorro\",\"Elefante\",\"Dinheiro\"]\n",
        "\n",
        "for numero, nome in zip (lista1, lista2):\n",
        "  print(numero, nome)"
      ],
      "metadata": {
        "colab": {
          "base_uri": "https://localhost:8080/"
        },
        "id": "TpS4A73x5BJV",
        "outputId": "3b5fa7d3-60fc-4793-bd89-9d95d22c12ca"
      },
      "execution_count": 13,
      "outputs": [
        {
          "output_type": "stream",
          "name": "stdout",
          "text": [
            "1 abacate\n",
            "2 bola\n",
            "3 cachorro\n",
            "4 Elefante\n",
            "5 Dinheiro\n"
          ]
        }
      ]
    },
    {
      "cell_type": "code",
      "source": [
        "#Map\n",
        "\n",
        "def dobro(x):\n",
        "  return x *2\n",
        "\n",
        "valor = [1,2,3,4,5]\n",
        "\n",
        "valor_dobrado = map(dobro, valor)\n",
        "\n",
        "valor1 = list(valor_dobrado)\n",
        "print(valor1)\n",
        "\n",
        "for v in valor_dobrado:\n",
        "  print(v)"
      ],
      "metadata": {
        "colab": {
          "base_uri": "https://localhost:8080/"
        },
        "id": "5hMz8MLI5fL_",
        "outputId": "229e03af-5392-4f60-e3fb-cf8bc6c8a5e2"
      },
      "execution_count": 16,
      "outputs": [
        {
          "output_type": "stream",
          "name": "stdout",
          "text": [
            "[2, 4, 6, 8, 10]\n"
          ]
        }
      ]
    },
    {
      "cell_type": "code",
      "source": [
        "#Lambda\n",
        "\n",
        "valor = [1,2,3,4,5]\n",
        "\n",
        "valor_dobrado = map(lambda i:i*2, valor)\n",
        "\n",
        "valor_dobrado = list(valor_dobrado)\n",
        "print(valor_dobrado)"
      ],
      "metadata": {
        "colab": {
          "base_uri": "https://localhost:8080/"
        },
        "id": "5YXKNLeM6Qeh",
        "outputId": "28c93b64-82ac-4ede-e083-b97e931fab60"
      },
      "execution_count": 17,
      "outputs": [
        {
          "output_type": "stream",
          "name": "stdout",
          "text": [
            "[2, 4, 6, 8, 10]\n"
          ]
        }
      ]
    }
  ]
}